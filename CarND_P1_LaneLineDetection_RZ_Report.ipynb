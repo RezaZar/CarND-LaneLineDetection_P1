{
 "cells": [
  {
   "cell_type": "markdown",
   "metadata": {
    "deletable": true,
    "editable": true
   },
   "source": [
    "# Self-Driving Car Engineer Nanodegree\n",
    "\n",
    "\n",
    "## Project 1: **Finding Lane Lines on the Road** \n",
    "***\n",
    "This project focuses on finding lane lines in a video stream using the lessons learned in Udacity Self Driving Nano-Degree Program. \n",
    "\n",
    "Objective: detect lane lines in images and video feeds and draw continuous lane lines on the image and video feed for the provided image and video samples, including the challenge video. "
   ]
  },
  {
   "cell_type": "markdown",
   "metadata": {},
   "source": [
    "### Tools and references"
   ]
  },
  {
   "cell_type": "markdown",
   "metadata": {},
   "source": [
    "Codes and references from [Udacity Self Driving Car Nano Degree Program](https://www.udacity.com/course/self-driving-car-engineer-nanodegree--nd013) are used in this project.\n",
    "Images and video feeds were provided by the course. Ideas and suggestions from the course are used to develop the pipeline.\n",
    "\n",
    "The following libraries are used to develop the pipeline and illustrate the results:\n",
    "- Numpy\n",
    "- Math\n",
    "- OpenCV\n",
    "- Matplotlib\n",
    "- OS\n",
    "- MoviePy\n",
    "- IPython\n"
   ]
  },
  {
   "cell_type": "markdown",
   "metadata": {
    "deletable": true,
    "editable": true
   },
   "source": [
    "### Description of the lane line detection pipeline:\n",
    "The pipeline is defined as a class to better manage the outputs and have flexibility to store/display the results.\n",
    "For every input image to the pipeline, the following steps are sequentially executed:\n",
    "- Reading the input image\n",
    "- Grayscaling the image\n",
    "- Gaussian smoothing to reduce the noise in images\n",
    "- Canny Edge Detection, \n",
    "- Defining region of interest in the image and masking the rest of the image\n",
    "- Haugh Transform to detect line segments in the region of interest\n",
    "\n",
    "The following images illustrate the results of each step, respectively:"
   ]
  },
  {
   "cell_type": "markdown",
   "metadata": {},
   "source": [
    "![Input Image](test_images/solidWhiteCurve.jpg)\n",
    "![Input Image](test_images/output_gray_solidWhiteCurve.jpg)\n",
    "![Input Image](test_images/output_blur_gray_solidWhiteCurve.jpg)\n",
    "![Input Image](test_images/output_edges_solidWhiteCurve.jpg)\n",
    "![Input Image](test_images/output_masked_edges_solidWhiteCurve.jpg)\n",
    "![Input Image](test_images/output_lines_edges_solidWhiteCurve.jpg) "
   ]
  },
  {
   "cell_type": "markdown",
   "metadata": {},
   "source": [
    "Detected lines are then classified into right and left lines. The classify_lines function appends each line to a \"right\" or \"left\" set based on the calculated slope for each line:"
   ]
  },
  {
   "cell_type": "markdown",
   "metadata": {},
   "source": [
    "![Input Image](test_images/output_left_segments_solidWhiteCurve.jpg)\n",
    "![Input Image](test_images/output_right_segments_solidWhiteCurve.jpg)"
   ]
  },
  {
   "cell_type": "markdown",
   "metadata": {},
   "source": [
    "#### Improving robustness:"
   ]
  },
  {
   "cell_type": "markdown",
   "metadata": {},
   "source": [
    "To eliminate outliers, \"left\" and \"right\" sets of detected lines are processed using the remove_line_noise function. This function receives a median slope and a tolerance and eliminates the lines that do not fall within the specified slope region.\n",
    "\n",
    "After filtering, average slope and intercept for the \"left\" and \"right\" sets is calculated using the average_line_slope_intercept function.\n",
    "\n",
    "Finally, the extended left and right lanes are illustrated on the images using the calculated slope/intercept values and algebraic calculations. "
   ]
  },
  {
   "cell_type": "markdown",
   "metadata": {},
   "source": [
    "### Testing the pipeline on the image set:"
   ]
  },
  {
   "cell_type": "markdown",
   "metadata": {},
   "source": [
    "The results for the test images are illustrated below:"
   ]
  },
  {
   "cell_type": "markdown",
   "metadata": {
    "collapsed": true
   },
   "source": [
    "![Input Image](test_images/output_detected_lines_solidWhiteCurve.jpg)\n",
    "![Input Image](test_images/output_detected_lines_solidWhiteRight.jpg)\n",
    "![Input Image](test_images/output_detected_lines_solidYellowCurve.jpg)\n",
    "![Input Image](test_images/output_detected_lines_solidYellowCurve2.jpg)\n",
    "![Input Image](test_images/output_detected_lines_solidYellowLeft.jpg)\n",
    "![Input Image](test_images/output_detected_lines_whiteCarLaneSwitch.jpg)"
   ]
  },
  {
   "cell_type": "markdown",
   "metadata": {},
   "source": [
    "### Further improvement of the pipeline for lane line detection in video feeds:"
   ]
  },
  {
   "cell_type": "markdown",
   "metadata": {},
   "source": [
    "To achieve smooth results when processing video feeds, a buffer of previous slope and intercept values for the right and left lanes is kept in global memory. The buffer gets updated only if the current frame contains detected lines that match the criteria specified in the pipeline.\n",
    "\n",
    "For every new frame, median of the available slope/intercept including the results for the current frame is chosen as the smoothed slope/intercept. The extended lines to illustrate on the video feed are calculated using smoothed slope and intercept.\n"
   ]
  },
  {
   "cell_type": "markdown",
   "metadata": {},
   "source": [
    "### Testing on video feeds\n",
    "The pipeline is tested on three video feeds with different lane colors, lightnig and road surface and shading conditions."
   ]
  },
  {
   "cell_type": "markdown",
   "metadata": {},
   "source": [
    "#### Test Case 1"
   ]
  },
  {
   "cell_type": "markdown",
   "metadata": {},
   "source": [
    "First, the pipeline is tested on a video with white lane markings:"
   ]
  },
  {
   "cell_type": "markdown",
   "metadata": {},
   "source": [
    "[White Lane Markings](https://youtu.be/d9RTncq0h4w)"
   ]
  },
  {
   "cell_type": "markdown",
   "metadata": {},
   "source": [
    "#### Test Case 2"
   ]
  },
  {
   "cell_type": "markdown",
   "metadata": {
    "deletable": true,
    "editable": true
   },
   "source": [
    "\n",
    "Now for a video with the solid yellow lane on the left. This one's more tricky!"
   ]
  },
  {
   "cell_type": "markdown",
   "metadata": {},
   "source": [
    "[Yellow Lane Markings](https://youtu.be/SZFrd4xmi54)"
   ]
  },
  {
   "cell_type": "markdown",
   "metadata": {
    "collapsed": true,
    "deletable": true,
    "editable": true
   },
   "source": [
    "##### Test Case 3: Optional Challenge\n",
    "\n",
    "Now, for a more interesting video feed! Road surface changes, lighting condition and shades makes lane detection more challenging for this case...\n",
    "Let's see!"
   ]
  },
  {
   "cell_type": "markdown",
   "metadata": {},
   "source": [
    "[Challenge!](https://youtu.be/J2QgPdEhMZE)"
   ]
  },
  {
   "cell_type": "markdown",
   "metadata": {},
   "source": [
    "### Potential Shortcomings:"
   ]
  },
  {
   "cell_type": "markdown",
   "metadata": {},
   "source": [
    "Potential shortcomings of the pipeline include:\n",
    "-  Canny edge detection faces challenges when the input frame is noisy in terms of shadows, non-homogeneous surface, etc.\n",
    "- The pipeline only considers straight lane segments. \n",
    "- All the test images and videos are relatively well lit. Performance of the pipeline might not be as reliable for other driving conditions.\n",
    "- Camera position is similar for all of the test images and videos. The pipeline needs to be tuned if the camera position changes.\n"
   ]
  },
  {
   "cell_type": "markdown",
   "metadata": {},
   "source": [
    "### Possible Improvements to the Pipeline:"
   ]
  },
  {
   "cell_type": "markdown",
   "metadata": {},
   "source": [
    "The pipeline can be potentially improved through:\n",
    "- Considering curved lanes in the calculations, using polynomial coefficients instead of the slope and intercept\n",
    "- Better filtering and smoothing of the input images\n",
    "- Using a Kalman filter to consider dynamics of the lane markings in the video feeds, filtering the results and achieving a smoother performance for more challenging conditions\n"
   ]
  }
 ],
 "metadata": {
  "anaconda-cloud": {},
  "kernelspec": {
   "display_name": "Python (carnd_linelane)",
   "language": "python",
   "name": "carnd_linelane"
  },
  "language_info": {
   "codemirror_mode": {
    "name": "ipython",
    "version": 3
   },
   "file_extension": ".py",
   "mimetype": "text/x-python",
   "name": "python",
   "nbconvert_exporter": "python",
   "pygments_lexer": "ipython3",
   "version": "3.5.2"
  }
 },
 "nbformat": 4,
 "nbformat_minor": 0
}
